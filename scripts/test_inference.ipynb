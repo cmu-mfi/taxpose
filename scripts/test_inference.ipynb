{
 "cells": [
  {
   "cell_type": "code",
   "execution_count": 1,
   "metadata": {},
   "outputs": [
    {
     "name": "stdout",
     "output_type": "stream",
     "text": [
      "Jupyter environment detected. Enabling Open3D WebVisualizer.\n",
      "[Open3D INFO] WebRTC GUI backend enabled.\n",
      "[Open3D INFO] WebRTCWindowSystem: HTTP handshake server disabled.\n"
     ]
    }
   ],
   "source": [
    "import os\n",
    "\n",
    "import hydra\n",
    "import omegaconf\n",
    "import pytorch_lightning as pl\n",
    "import torch\n",
    "import wandb\n",
    "from omegaconf import OmegaConf\n",
    "from pytorch_lightning.callbacks import ModelCheckpoint\n",
    "from pytorch_lightning.loggers import WandbLogger\n",
    "\n",
    "from taxpose.datasets.point_cloud_data_module import MultiviewDataModule\n",
    "from taxpose.nets.multimodal_transformer_flow import (\n",
    "    Multimodal_ResidualFlow_DiffEmbTransformer,\n",
    "    Multimodal_ResidualFlow_DiffEmbTransformer_WithPZCondX,\n",
    ")\n",
    "from taxpose.nets.transformer_flow import ResidualFlow_DiffEmbTransformer\n",
    "from taxpose.training.flow_equivariance_training_module_nocentering import (\n",
    "    EquivarianceTrainingModule,\n",
    ")\n",
    "from taxpose.training.multimodal_flow_equivariance_training_module_nocentering import (\n",
    "    Multimodal_EquivarianceTrainingModule,\n",
    "    Multimodal_EquivarianceTrainingModule_WithPZCondX,\n",
    ")\n",
    "\n"
   ]
  }
 ],
 "metadata": {
  "kernelspec": {
   "display_name": ".env_taxpose",
   "language": "python",
   "name": "python3"
  },
  "language_info": {
   "codemirror_mode": {
    "name": "ipython",
    "version": 3
   },
   "file_extension": ".py",
   "mimetype": "text/x-python",
   "name": "python",
   "nbconvert_exporter": "python",
   "pygments_lexer": "ipython3",
   "version": "3.8.0"
  }
 },
 "nbformat": 4,
 "nbformat_minor": 2
}
