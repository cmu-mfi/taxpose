{
 "cells": [
  {
   "cell_type": "code",
   "execution_count": null,
   "metadata": {},
   "outputs": [],
   "source": [
    "%load_ext autoreload\n",
    "%autoreload 2"
   ]
  },
  {
   "cell_type": "code",
   "execution_count": null,
   "metadata": {},
   "outputs": [],
   "source": [
    "from taxpose.datasets.point_cloud_dataset import NDFPointCloudDataset, NDFPointCloudDatasetConfig"
   ]
  },
  {
   "cell_type": "code",
   "execution_count": null,
   "metadata": {},
   "outputs": [],
   "source": [
    "dset = NDFPointCloudDataset(\n",
    "    cfg=NDFPointCloudDatasetConfig(\n",
    "        dataset_root=\"/home/beisner/code/rpad/taxpose/data/mug_place/train_data/renders\",\n",
    "        dataset_indices=None,\n",
    "        num_demo=10,\n",
    "        action_class=0,\n",
    "        anchor_class=1,\n",
    "        cloud_type=\"teleport\",\n",
    "    )\n",
    ")"
   ]
  },
  {
   "cell_type": "code",
   "execution_count": null,
   "metadata": {},
   "outputs": [],
   "source": [
    "len(dset)"
   ]
  },
  {
   "cell_type": "code",
   "execution_count": null,
   "metadata": {},
   "outputs": [],
   "source": [
    "data = dset[1]"
   ]
  },
  {
   "cell_type": "code",
   "execution_count": null,
   "metadata": {},
   "outputs": [],
   "source": [
    "data[\"points_anchor\"].shape"
   ]
  },
  {
   "cell_type": "code",
   "execution_count": null,
   "metadata": {},
   "outputs": [],
   "source": [
    "from rpad.visualize_3d.plots import pointcloud_fig\n",
    "from rpad.visualize_3d.plots import segmentation_fig"
   ]
  },
  {
   "cell_type": "code",
   "execution_count": null,
   "metadata": {},
   "outputs": [],
   "source": [
    "# Concatenate points_anchor and points_action, and create a label vector for each point\n",
    "import numpy as np\n",
    "points_anchor = data[\"points_anchor\"]\n",
    "points_action = data[\"points_action\"]\n",
    "points = np.concatenate((points_anchor, points_action), axis=1)[0]\n",
    "labels = np.concatenate(\n",
    "    (\n",
    "        np.zeros((points_anchor.shape[1])),\n",
    "        np.ones((points_action.shape[1])),\n",
    "    ),\n",
    "    axis=0,\n",
    ").astype(int)\n",
    "\n",
    "segmentation_fig(\n",
    "    points,\n",
    "    labels,\n",
    ")\n"
   ]
  },
  {
   "cell_type": "code",
   "execution_count": null,
   "metadata": {},
   "outputs": [],
   "source": [
    "labels.shape"
   ]
  },
  {
   "cell_type": "code",
   "execution_count": null,
   "metadata": {},
   "outputs": [],
   "source": [
    "points.shape"
   ]
  },
  {
   "cell_type": "code",
   "execution_count": null,
   "metadata": {},
   "outputs": [],
   "source": [
    "labels.shape"
   ]
  },
  {
   "cell_type": "code",
   "execution_count": null,
   "metadata": {},
   "outputs": [],
   "source": []
  }
 ],
 "metadata": {
  "kernelspec": {
   "display_name": "taxpose_repro",
   "language": "python",
   "name": "python3"
  },
  "language_info": {
   "codemirror_mode": {
    "name": "ipython",
    "version": 3
   },
   "file_extension": ".py",
   "mimetype": "text/x-python",
   "name": "python",
   "nbconvert_exporter": "python",
   "pygments_lexer": "ipython3",
   "version": "3.9.12"
  }
 },
 "nbformat": 4,
 "nbformat_minor": 2
}
