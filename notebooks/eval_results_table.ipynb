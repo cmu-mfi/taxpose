{
 "cells": [
  {
   "cell_type": "code",
   "execution_count": null,
   "metadata": {},
   "outputs": [],
   "source": [
    "import wandb\n",
    "import pandas as pd\n",
    "import json"
   ]
  },
  {
   "cell_type": "code",
   "execution_count": null,
   "metadata": {},
   "outputs": [],
   "source": [
    "\n",
    "\n",
    "def get_results_table(run_id):\n",
    "    api = wandb.Api()\n",
    "    json_file = api.artifact(f'r-pad/taxpose/run-{run_id}-eval_results:v0').get_path('eval_results.table.json').download()\n",
    "    with open(json_file) as file:\n",
    "        json_dict = json.load(file)\n",
    "    return pd.DataFrame(json_dict[\"data\"], columns=json_dict[\"columns\"])"
   ]
  },
  {
   "cell_type": "code",
   "execution_count": null,
   "metadata": {},
   "outputs": [],
   "source": [
    "df = get_results_table(\"1lhn802x\")\n",
    "df"
   ]
  },
  {
   "cell_type": "code",
   "execution_count": null,
   "metadata": {},
   "outputs": [],
   "source": [
    "# Function to select the following columns from the dataframe:\n",
    "# Grasp, Place@0.00, Place@0.01, Place@0.02, Place@0.03 Place, Overall@0.00, Overall@0.01, Overall@0.02, Overall@0.03, Overall\n",
    "def select_columns(df):\n",
    "    return df[['Grasp', 'Place@0.0', 'Place@0.01', 'Place@0.02', 'Place@0.03', 'Place', 'Overall@0.0', 'Overall@0.01', 'Overall@0.02', 'Overall@0.03', 'Overall']]"
   ]
  },
  {
   "cell_type": "code",
   "execution_count": null,
   "metadata": {},
   "outputs": [],
   "source": [
    "select_columns(df)"
   ]
  },
  {
   "cell_type": "code",
   "execution_count": null,
   "metadata": {},
   "outputs": [],
   "source": [
    "df.columns"
   ]
  },
  {
   "cell_type": "code",
   "execution_count": null,
   "metadata": {},
   "outputs": [],
   "source": [
    "# Mug - upright\n",
    "ids = [\"n9mtmdyv\", \"kicbd3tv\"]\n",
    "methods = [\"TAX-Pose\", \"Ours\"]\n",
    "\n",
    "# Get the dfs:\n",
    "dfs = [get_results_table(id) for id in ids]\n",
    "\n",
    "# Prune the dfs:\n",
    "dfs = [select_columns(df) for df in dfs]\n",
    "\n",
    "# Concatenate the dfs, and make methods the index.\n",
    "df = pd.concat(dfs, keys=methods)\n",
    "\n",
    "df\n",
    "\n"
   ]
  },
  {
   "cell_type": "code",
   "execution_count": null,
   "metadata": {},
   "outputs": [],
   "source": [
    "print(df.to_latex())"
   ]
  },
  {
   "cell_type": "code",
   "execution_count": null,
   "metadata": {},
   "outputs": [],
   "source": [
    "# Mug - arbitrary\n",
    "ids = [\"r1k33p5e\", \"mys7rt3z\"]\n",
    "methods = [\"TAX-Pose\", \"Ours\"]\n",
    "\n",
    "# Get the dfs:\n",
    "dfs = [get_results_table(id) for id in ids]\n",
    "\n",
    "# Prune the dfs:\n",
    "dfs = [select_columns(df) for df in dfs]\n",
    "\n",
    "# Concatenate the dfs, and make methods the index.\n",
    "df = pd.concat(dfs, keys=methods)\n",
    "\n",
    "df"
   ]
  },
  {
   "cell_type": "code",
   "execution_count": null,
   "metadata": {},
   "outputs": [],
   "source": [
    "# Bottle - upright\n",
    "ids = [\"1lhn802x\", \"g6x27elk\"]\n",
    "methods = [\"TAX-Pose\", \"Ours\"]\n",
    "\n",
    "# Get the dfs:\n",
    "dfs = [get_results_table(id) for id in ids]\n",
    "\n",
    "# Prune the dfs:\n",
    "dfs = [select_columns(df) for df in dfs]\n",
    "\n",
    "# Concatenate the dfs, and make methods the index.\n",
    "df = pd.concat(dfs, keys=methods)\n",
    "\n",
    "df"
   ]
  },
  {
   "cell_type": "code",
   "execution_count": null,
   "metadata": {},
   "outputs": [],
   "source": [
    "print(df.to_markdown())"
   ]
  },
  {
   "cell_type": "code",
   "execution_count": null,
   "metadata": {},
   "outputs": [],
   "source": [
    "print(df.style.format(precision=2).to_latex())"
   ]
  },
  {
   "cell_type": "code",
   "execution_count": null,
   "metadata": {},
   "outputs": [],
   "source": [
    "# Bottle - arbitrary\n",
    "ids = [\"mxa664bm\", \"a4lchyiz\"]\n",
    "methods = [\"TAX-Pose\", \"Ours\"]\n",
    "\n",
    "# Get the dfs:\n",
    "dfs = [get_results_table(id) for id in ids]\n",
    "\n",
    "# Prune the dfs:\n",
    "dfs = [select_columns(df) for df in dfs]\n",
    "\n",
    "# Concatenate the dfs, and make methods the index.\n",
    "df = pd.concat(dfs, keys=methods)\n",
    "\n",
    "df"
   ]
  },
  {
   "cell_type": "code",
   "execution_count": null,
   "metadata": {},
   "outputs": [],
   "source": [
    "print(df.to_markdown())"
   ]
  },
  {
   "cell_type": "code",
   "execution_count": null,
   "metadata": {},
   "outputs": [],
   "source": [
    "print(df.style.format(precision=2).to_latex())"
   ]
  },
  {
   "cell_type": "code",
   "execution_count": null,
   "metadata": {},
   "outputs": [],
   "source": [
    "# Bowl - upright\n",
    "ids = [\"olw4ewbh\", \"vlde3lpy\"]\n",
    "methods = [\"TAX-Pose\", \"Ours\"]\n",
    "\n",
    "# Get the dfs:\n",
    "dfs = [get_results_table(id) for id in ids]\n",
    "\n",
    "# Prune the dfs:\n",
    "dfs = [select_columns(df) for df in dfs]\n",
    "\n",
    "# Concatenate the dfs, and make methods the index.\n",
    "df = pd.concat(dfs, keys=methods)\n",
    "\n",
    "df"
   ]
  },
  {
   "cell_type": "code",
   "execution_count": null,
   "metadata": {},
   "outputs": [],
   "source": [
    "print(df.to_markdown())"
   ]
  },
  {
   "cell_type": "code",
   "execution_count": null,
   "metadata": {},
   "outputs": [],
   "source": [
    "print(df.style.format(precision=2).to_latex())"
   ]
  },
  {
   "cell_type": "code",
   "execution_count": null,
   "metadata": {},
   "outputs": [],
   "source": [
    "# Bowl - arbitrary\n",
    "ids = [\"f79whyrt\", \"acm8khmi\"]\n",
    "methods = [\"TAX-Pose\", \"Ours\"]\n",
    "\n",
    "# Get the dfs:\n",
    "dfs = [get_results_table(id) for id in ids]\n",
    "\n",
    "# Prune the dfs:\n",
    "dfs = [select_columns(df) for df in dfs]\n",
    "\n",
    "# Concatenate the dfs, and make methods the index.\n",
    "df = pd.concat(dfs, keys=methods)\n",
    "\n",
    "df"
   ]
  },
  {
   "cell_type": "code",
   "execution_count": null,
   "metadata": {},
   "outputs": [],
   "source": [
    "print(df.to_markdown())"
   ]
  },
  {
   "cell_type": "code",
   "execution_count": null,
   "metadata": {},
   "outputs": [],
   "source": [
    "print(df.style.format(precision=2).to_latex())"
   ]
  },
  {
   "cell_type": "code",
   "execution_count": null,
   "metadata": {},
   "outputs": [],
   "source": [
    "# SE(3) comparison\n",
    "ids = [\"uiemocd5\", \"ormuoxbj\"]\n",
    "methods = [\"TAX-Pose\", \"Ours\"]\n",
    "\n",
    "# Get the dfs:\n",
    "dfs = [get_results_table(id) for id in ids]\n",
    "\n",
    "# Prune the dfs:\n",
    "dfs = [select_columns(df) for df in dfs]\n",
    "\n",
    "# Concatenate the dfs, and make methods the index.\n",
    "df = pd.concat(dfs, keys=methods)\n",
    "\n",
    "df"
   ]
  },
  {
   "cell_type": "code",
   "execution_count": null,
   "metadata": {},
   "outputs": [],
   "source": [
    "print(df.to_markdown())"
   ]
  },
  {
   "cell_type": "code",
   "execution_count": null,
   "metadata": {},
   "outputs": [],
   "source": [
    "print(df.style.format(precision=2).to_latex())"
   ]
  },
  {
   "cell_type": "code",
   "execution_count": null,
   "metadata": {},
   "outputs": [],
   "source": [
    "# Write a function which takes a dataframe as input and returns a markdown table as output.\n",
    "def to_markdown(df):\n",
    "    df.to_markdown()"
   ]
  },
  {
   "cell_type": "code",
   "execution_count": null,
   "metadata": {},
   "outputs": [],
   "source": [
    "max_to_markdown(df)"
   ]
  },
  {
   "cell_type": "code",
   "execution_count": null,
   "metadata": {},
   "outputs": [],
   "source": [
    "# Write a function which bolds the largest number in each column of a markdown table.\n",
    "# def bold_largest_number(table):\n",
    "#     # Split the table into rows\n",
    "#     rows = table.split('\\n')\n",
    "#     # Split each row into columns\n",
    "#     columns = [row.split('|') for row in rows]\n",
    "#     # Remove the first and last columns\n",
    "#     columns = [column[1:-1] for column in columns]\n",
    "#     # Remove the first and last rows\n",
    "#     columns = columns[1:-1]\n",
    "#     # Convert each column to a list of integers\n",
    "#     columns = [[int(number) for number in column] for column in columns]\n",
    "#     # Find the largest number in each column\n",
    "#     largest_numbers = [max(column) for column in columns]\n",
    "#     # Replace the largest number in each column with a bold version of itself\n",
    "#     for i, largest_number in enumerate(largest_numbers):\n",
    "#         for j, number in enumerate(columns[i]):\n",
    "#             if number == largest_number:\n",
    "#                 columns[i][j] = f'**{number}**'\n",
    "#     # Convert each column back to a list of strings\n",
    "#     columns = [[str(number) for number in column] for column in columns]\n",
    "#     # Join each column back into a row\n",
    "#     rows = ['|'.join(column) for column in columns]\n",
    "#     # Join each row back into a table\n",
    "#     table = '\\n'.join(rows)\n",
    "#     # Return the table\n",
    "#     return table"
   ]
  },
  {
   "cell_type": "code",
   "execution_count": null,
   "metadata": {},
   "outputs": [],
   "source": [
    "print(df.to_markdown())"
   ]
  },
  {
   "cell_type": "code",
   "execution_count": null,
   "metadata": {},
   "outputs": [],
   "source": [
    "to_markdown_with_largest_bolded(df)"
   ]
  },
  {
   "cell_type": "code",
   "execution_count": null,
   "metadata": {},
   "outputs": [],
   "source": []
  }
 ],
 "metadata": {
  "kernelspec": {
   "display_name": "taxpose_repro",
   "language": "python",
   "name": "python3"
  },
  "language_info": {
   "codemirror_mode": {
    "name": "ipython",
    "version": 3
   },
   "file_extension": ".py",
   "mimetype": "text/x-python",
   "name": "python",
   "nbconvert_exporter": "python",
   "pygments_lexer": "ipython3",
   "version": "3.9.12"
  }
 },
 "nbformat": 4,
 "nbformat_minor": 2
}
